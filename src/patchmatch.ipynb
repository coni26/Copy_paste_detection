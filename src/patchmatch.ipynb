{
 "cells": [
  {
   "cell_type": "code",
   "execution_count": 54,
   "id": "7350eb6c-a36c-4684-9a34-3c4589d03c32",
   "metadata": {},
   "outputs": [],
   "source": [
    "import numpy as np\n",
    "from matplotlib import pyplot as plt"
   ]
  },
  {
   "cell_type": "code",
   "execution_count": 3,
   "id": "6c7b7012-82b5-460a-a9b6-b7ec00f9ba51",
   "metadata": {},
   "outputs": [],
   "source": [
    "def extract_patch(img, x, y, p):\n",
    "    return img[x : x + p, y : y + p]"
   ]
  },
  {
   "cell_type": "code",
   "execution_count": 4,
   "id": "ee3f0853-3f5a-4d37-a055-45ac571c7f9c",
   "metadata": {},
   "outputs": [],
   "source": [
    "def l1(p1, p2):\n",
    "    return np.sum(abs(p1 - p2))"
   ]
  },
  {
   "cell_type": "code",
   "execution_count": 5,
   "id": "38221ef3-40b2-4646-9f6a-6af94b68bf4c",
   "metadata": {},
   "outputs": [],
   "source": [
    "def l2(p1, p2):\n",
    "    return np.sum((p1 - p2) ** 2) ** 0.5"
   ]
  },
  {
   "cell_type": "code",
   "execution_count": 68,
   "id": "b96b4f0b-11ae-4eb8-9a53-cf4fa87fbed0",
   "metadata": {},
   "outputs": [],
   "source": [
    "def propagation(img, nnf_x, nnf_y, odd, p, loss_fn=l1):\n",
    "    h, w = img.shape[0] - p, img.shape[1] - p\n",
    "    if odd:\n",
    "        for x in range(0, h-1):\n",
    "            for y in range(0,w-1):\n",
    "                best_d = nnf_x[x, y], nnf_y[x, y]\n",
    "                best_l = loss_fn(extract_patch(img, x, y, p), extract_patch(img, x + nnf_x[x, y], y + nnf_y[x, y], p))\n",
    "                if 0 <= x + nnf_x[x+1, y] < h and 0 <= y + nnf_y[x+1, y] < w and loss_fn(extract_patch(img, x, y, p), extract_patch(img, x + nnf_x[x+1, y], y + nnf_y[x+1, y], p)) < best_l:\n",
    "                    best_l = loss_fn(extract_patch(img, x, y, p), extract_patch(img, x + nnf_x[x+1, y], y + nnf_y[x+1, y], p))\n",
    "                    best_d = nnf_x[x+1, y], nnf_y[x+1, y]\n",
    "                if 0 <= x + nnf_x[x, y+1] < h and 0 <= y + nnf_y[x, y+1] < w and loss_fn(extract_patch(img, x + best_d[0], y + best_d[1], p), extract_patch(img, x + nnf_x[x, y+1], y + nnf_y[x, y+1], p)) < best_l:\n",
    "                    best_l = loss_fn(extract_patch(img, x, y, p), extract_patch(img, x + nnf_x[x, y+1], y + nnf_y[x, y+1], p))\n",
    "                    best_d = nnf_x[x, y+1], nnf_y[x, y+1]\n",
    "                nnf_x[x, y], nnf_y[x, y] = best_d\n",
    "    else:\n",
    "        for x in range(1, h):\n",
    "            for y in range(1,w):\n",
    "                best_d = nnf_x[x, y], nnf_y[x, y]\n",
    "                best_l = loss_fn(extract_patch(img, x, y, p), extract_patch(img, x + nnf_x[x, y], y + nnf_y[x, y], p))\n",
    "                if 0 <= x + nnf_x[x-1, y] < h and 0 <= y + nnf_y[x-1, y] < w and loss_fn(extract_patch(img, x, y, p), extract_patch(img, x + nnf_x[x-1, y], y + nnf_y[x-1, y], p)) < best_l:\n",
    "                    best_l = loss_fn(extract_patch(img, x, y, p), extract_patch(img, x + nnf_x[x-1, y], y + nnf_y[x-1, y], p))\n",
    "                    best_d = nnf_x[x-1, y], nnf_y[x-1, y]\n",
    "                if 0 <= x + nnf_x[x, y-1] < h and 0 <= y + nnf_y[x, y-1] < w and loss_fn(extract_patch(img, x + best_d[0], y + best_d[1], p), extract_patch(img, x + nnf_x[x, y-1], y + nnf_y[x, y-1], p)) < best_l:\n",
    "                    best_l = loss_fn(extract_patch(img, x, y, p), extract_patch(img, x + nnf_x[x, y-1], y + nnf_y[x, y-1], p))\n",
    "                    best_d = nnf_x[x, y-1], nnf_y[x, y-1]\n",
    "                nnf_x[x, y], nnf_y[x, y] = best_d\n",
    "    return nnf_x, nnf_y\n",
    "                                     \n",
    "                                     \n",
    "                                     \n",
    "                                     \n",
    "                                     "
   ]
  },
  {
   "cell_type": "code",
   "execution_count": 110,
   "id": "37717792-1270-40e7-b184-a33d0172b797",
   "metadata": {},
   "outputs": [],
   "source": [
    "def random_search(img, nnf_x, nnf_y, p, L=5, loss_fn=l1):\n",
    "    dir_random = [(-1,-1), (0,1), (1,0), (0,-1), (-1,0), (1,-1), (-1,1), (1,1)]\n",
    "    h, w = img.shape[0] - p, img.shape[1] - p\n",
    "    for x in range(h):\n",
    "        for y in range(w):\n",
    "            best_d = nnf_x[x, y], nnf_y[x, y]\n",
    "            best_l = loss_fn(extract_patch(img, x, y, p), extract_patch(img, x + nnf_x[x, y], y + nnf_y[x, y], p))\n",
    "            for i in range(L):\n",
    "                dir_ = dir_random[np.random.randint(8)]\n",
    "                while not(0 <= x + nnf_x[x ,y] + 2 ** i * dir_[0] < h) or not(0 <= y + nnf_y[x ,y] + 2 ** i * dir_[1] < w) or (nnf_x[x ,y] + 2 ** i * dir_[0] == 0 and nnf_y[x ,y] + 2 ** i * dir_[1]==0):\n",
    "                    dir_ = dir_random[np.random.randint(8)]\n",
    "                if loss_fn(extract_patch(img, x, y, p), extract_patch(img, int(x + nnf_x[x, y] + 2 ** i * dir_[0]), int(y + nnf_y[x, y] + 2 ** i * dir_[1]), p)) < best_l:\n",
    "                    best_d = nnf_x[x ,y] + 2 ** i * dir_[0], nnf_y[x ,y] + 2 ** i * dir_[1]\n",
    "            nnf_x[x, y], nnf_y[x, y] = best_d\n",
    "    return nnf_x, nnf_y\n",
    "                \n",
    "            "
   ]
  },
  {
   "cell_type": "code",
   "execution_count": 111,
   "id": "659b6399-7df1-4faf-bfe3-c4d3e797d8b5",
   "metadata": {},
   "outputs": [],
   "source": [
    "def remove_0(nnf_x, nnf_y, p):\n",
    "    for i in range(nnf_x.shape[0]):\n",
    "        for j in range(nnf_x.shape[1]):\n",
    "            while nnf_x[i,j] == nnf_y[i,j] == 0:\n",
    "                nnf_x[i,j] = np.random.randint(-i, nnf_x.shape[0] - i - p)\n",
    "    return nnf_x, nnf_y"
   ]
  },
  {
   "cell_type": "code",
   "execution_count": 112,
   "id": "fa4bf6e8-3691-4a21-9a34-19a4652f94ad",
   "metadata": {},
   "outputs": [],
   "source": [
    "def patchmatch(img, n_iters=100, p=8):\n",
    "    h, w = img.shape[0] - p, img.shape[1] - p\n",
    "    x = np.array(np.linspace(0,h-1,h))\n",
    "    y = np.array(np.linspace(0,w-1,w))\n",
    "    yy, xx = np.meshgrid(x, y)\n",
    "    xx = xx.astype(int)\n",
    "    yy = yy.astype(int)\n",
    "    nnf_x = np.random.randint(-xx, h-xx-p)\n",
    "    nnf_y = np.random.randint(-yy, w-yy-p)\n",
    "    nnf_x, nnf_y = remove_0(nnf_x, nnf_y, p) # to avoid null move\n",
    "    for i in range(n_iters):\n",
    "        print(i)\n",
    "        nnf_x, nnf_y = propagation(img, nnf_x, nnf_y, i%2, p)\n",
    "        nnf_x, nnf_y = random_search(img, nnf_x, nnf_y, p)\n",
    "    return nnf_x, nnf_y"
   ]
  },
  {
   "cell_type": "code",
   "execution_count": 156,
   "id": "f9cdfa2f-6cc5-422c-bd20-2af29ee01645",
   "metadata": {},
   "outputs": [],
   "source": [
    "img = np.random.randint(0,256, size=(40,40))\n",
    "img[2:15, 4:17] = img[11:24, 20:33] "
   ]
  },
  {
   "cell_type": "code",
   "execution_count": 164,
   "id": "a6a0c69a-ba4b-4dfa-a2a1-591092968cc1",
   "metadata": {},
   "outputs": [
    {
     "name": "stdout",
     "output_type": "stream",
     "text": [
      "0\n",
      "1\n",
      "2\n",
      "3\n",
      "4\n",
      "5\n",
      "6\n",
      "7\n",
      "8\n",
      "9\n",
      "10\n",
      "11\n",
      "12\n",
      "13\n",
      "14\n",
      "15\n",
      "16\n",
      "17\n",
      "18\n",
      "19\n",
      "20\n",
      "21\n",
      "22\n",
      "23\n",
      "24\n",
      "25\n",
      "26\n",
      "27\n",
      "28\n",
      "29\n",
      "30\n",
      "31\n",
      "32\n",
      "33\n",
      "34\n",
      "35\n",
      "36\n",
      "37\n",
      "38\n",
      "39\n",
      "40\n",
      "41\n",
      "42\n",
      "43\n",
      "44\n",
      "45\n",
      "46\n",
      "47\n",
      "48\n",
      "49\n",
      "50\n",
      "51\n",
      "52\n",
      "53\n",
      "54\n",
      "55\n",
      "56\n",
      "57\n",
      "58\n",
      "59\n",
      "60\n",
      "61\n",
      "62\n",
      "63\n",
      "64\n",
      "65\n",
      "66\n",
      "67\n",
      "68\n",
      "69\n",
      "70\n",
      "71\n",
      "72\n",
      "73\n",
      "74\n",
      "75\n",
      "76\n",
      "77\n",
      "78\n",
      "79\n",
      "80\n",
      "81\n",
      "82\n",
      "83\n",
      "84\n",
      "85\n",
      "86\n",
      "87\n",
      "88\n",
      "89\n",
      "90\n",
      "91\n",
      "92\n",
      "93\n",
      "94\n",
      "95\n",
      "96\n",
      "97\n",
      "98\n",
      "99\n",
      "100\n",
      "101\n",
      "102\n",
      "103\n",
      "104\n",
      "105\n",
      "106\n",
      "107\n",
      "108\n",
      "109\n",
      "110\n",
      "111\n",
      "112\n",
      "113\n",
      "114\n",
      "115\n",
      "116\n",
      "117\n",
      "118\n",
      "119\n",
      "120\n",
      "121\n",
      "122\n",
      "123\n",
      "124\n",
      "125\n",
      "126\n",
      "127\n",
      "128\n",
      "129\n",
      "130\n",
      "131\n",
      "132\n",
      "133\n",
      "134\n",
      "135\n",
      "136\n",
      "137\n",
      "138\n",
      "139\n",
      "140\n",
      "141\n",
      "142\n",
      "143\n",
      "144\n",
      "145\n",
      "146\n",
      "147\n",
      "148\n",
      "149\n"
     ]
    }
   ],
   "source": [
    "nnf_x, nnf_y = patchmatch(img, 150, p=8)"
   ]
  },
  {
   "cell_type": "code",
   "execution_count": 165,
   "id": "77878d18-de20-4f64-839a-b9f3bbdb0d18",
   "metadata": {},
   "outputs": [
    {
     "data": {
      "text/plain": [
       "array([[9, 9, 9, 9, 9, 9, 9, 9],\n",
       "       [9, 9, 9, 9, 9, 9, 9, 9],\n",
       "       [9, 9, 9, 9, 9, 9, 9, 9],\n",
       "       [9, 9, 9, 9, 9, 9, 9, 9],\n",
       "       [9, 9, 9, 9, 9, 9, 9, 9],\n",
       "       [9, 9, 9, 9, 9, 9, 9, 9],\n",
       "       [9, 9, 9, 9, 9, 9, 9, 9],\n",
       "       [9, 9, 9, 9, 9, 9, 9, 9]])"
      ]
     },
     "execution_count": 165,
     "metadata": {},
     "output_type": "execute_result"
    }
   ],
   "source": [
    "nnf_x[2:10, 4:12]"
   ]
  },
  {
   "cell_type": "code",
   "execution_count": 166,
   "id": "ea099cbf-11ef-4392-874e-d55dcfc2b54a",
   "metadata": {},
   "outputs": [
    {
     "data": {
      "text/plain": [
       "array([[16, 16, 16, 16, 16, 16, 16, 16],\n",
       "       [16, 16, 16, 16, 16, 16, 16, 16],\n",
       "       [16, 16, 16, 16, 16, 16, 16, 16],\n",
       "       [16, 16, 16, 16, 16, 16, 16, 16],\n",
       "       [16, 16, 16, 16, 16, 16, 16, 16],\n",
       "       [16, 16, 16, 16, 16, 16, 16, 16],\n",
       "       [16, 16, 16, 16, 16, 16, 16, 16],\n",
       "       [16, 16, 16, 16, 16, 16, 16, 16]])"
      ]
     },
     "execution_count": 166,
     "metadata": {},
     "output_type": "execute_result"
    }
   ],
   "source": [
    "nnf_y[2:10, 4:12]"
   ]
  },
  {
   "cell_type": "code",
   "execution_count": 167,
   "id": "ca68c050-1d7e-4613-bb1d-7e1349fe51cb",
   "metadata": {},
   "outputs": [
    {
     "data": {
      "image/png": "[encoded data removed]",
      "text/plain": [
       "<Figure size 640x480 with 1 Axes>"
      ]
     },
     "metadata": {},
     "output_type": "display_data"
    }
   ],
   "source": [
    "plt.imshow(img, interpolation='nearest')\n",
    "plt.show()"
   ]
  },
  {
   "cell_type": "code",
   "execution_count": null,
   "id": "28249df6-4a1d-4f9b-b806-8f6988db8ada",
   "metadata": {},
   "outputs": [],
   "source": []
  },
  {
   "cell_type": "code",
   "execution_count": null,
   "id": "bf64b7bc-69dc-45da-bb60-f64b9ea2095d",
   "metadata": {},
   "outputs": [],
   "source": []
  }
 ],
 "metadata": {
  "kernelspec": {
   "display_name": "Python 3 (ipykernel)",
   "language": "python",
   "name": "python3"
  },
  "language_info": {
   "codemirror_mode": {
    "name": "ipython",
    "version": 3
   },
   "file_extension": ".py",
   "mimetype": "text/x-python",
   "name": "python",
   "nbconvert_exporter": "python",
   "pygments_lexer": "ipython3",
   "version": "3.10.4"
  }
 },
 "nbformat": 4,
 "nbformat_minor": 5
}
