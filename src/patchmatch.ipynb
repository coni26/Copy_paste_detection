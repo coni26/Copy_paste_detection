{
 "cells": [
  {
   "cell_type": "code",
   "execution_count": 38,
   "id": "7350eb6c-a36c-4684-9a34-3c4589d03c32",
   "metadata": {},
   "outputs": [],
   "source": [
    "import numpy as np\n",
    "from matplotlib import pyplot as plt\n",
    "from tqdm import tqdm"
   ]
  },
  {
   "cell_type": "code",
   "execution_count": 2,
   "id": "6c7b7012-82b5-460a-a9b6-b7ec00f9ba51",
   "metadata": {},
   "outputs": [],
   "source": [
    "def extract_patch(img, x, y, p):\n",
    "    return img[x : x + p, y : y + p]"
   ]
  },
  {
   "cell_type": "code",
   "execution_count": 3,
   "id": "ee3f0853-3f5a-4d37-a055-45ac571c7f9c",
   "metadata": {},
   "outputs": [],
   "source": [
    "def l1(p1, p2):\n",
    "    return np.sum(abs(p1 - p2))"
   ]
  },
  {
   "cell_type": "code",
   "execution_count": 4,
   "id": "38221ef3-40b2-4646-9f6a-6af94b68bf4c",
   "metadata": {},
   "outputs": [],
   "source": [
    "def l2(p1, p2):\n",
    "    return np.sum((p1 - p2) ** 2) ** 0.5"
   ]
  },
  {
   "cell_type": "code",
   "execution_count": 6,
   "id": "b96b4f0b-11ae-4eb8-9a53-cf4fa87fbed0",
   "metadata": {},
   "outputs": [],
   "source": [
    "def propagation(img, nnf_x, nnf_y, odd, p, loss_fn=l1):\n",
    "    h, w = img.shape[0] - p, img.shape[1] - p\n",
    "    if odd:\n",
    "        for x in range(0, h-1):\n",
    "            for y in range(0,w-1):\n",
    "                best_d = nnf_x[x, y], nnf_y[x, y]\n",
    "                best_l = loss_fn(extract_patch(img, x, y, p), extract_patch(img, x + nnf_x[x, y], y + nnf_y[x, y], p))\n",
    "                if 0 <= x + nnf_x[x+1, y] < h and 0 <= y + nnf_y[x+1, y] < w and loss_fn(extract_patch(img, x, y, p), extract_patch(img, x + nnf_x[x+1, y], y + nnf_y[x+1, y], p)) < best_l:\n",
    "                    best_l = loss_fn(extract_patch(img, x, y, p), extract_patch(img, x + nnf_x[x+1, y], y + nnf_y[x+1, y], p))\n",
    "                    best_d = nnf_x[x+1, y], nnf_y[x+1, y]\n",
    "                if 0 <= x + nnf_x[x, y+1] < h and 0 <= y + nnf_y[x, y+1] < w and loss_fn(extract_patch(img, x + best_d[0], y + best_d[1], p), extract_patch(img, x + nnf_x[x, y+1], y + nnf_y[x, y+1], p)) < best_l:\n",
    "                    best_l = loss_fn(extract_patch(img, x, y, p), extract_patch(img, x + nnf_x[x, y+1], y + nnf_y[x, y+1], p))\n",
    "                    best_d = nnf_x[x, y+1], nnf_y[x, y+1]\n",
    "                nnf_x[x, y], nnf_y[x, y] = best_d\n",
    "    else:\n",
    "        for x in range(1, h):\n",
    "            for y in range(1,w):\n",
    "                best_d = nnf_x[x, y], nnf_y[x, y]\n",
    "                best_l = loss_fn(extract_patch(img, x, y, p), extract_patch(img, x + nnf_x[x, y], y + nnf_y[x, y], p))\n",
    "                if 0 <= x + nnf_x[x-1, y] < h and 0 <= y + nnf_y[x-1, y] < w and loss_fn(extract_patch(img, x, y, p), extract_patch(img, x + nnf_x[x-1, y], y + nnf_y[x-1, y], p)) < best_l:\n",
    "                    best_l = loss_fn(extract_patch(img, x, y, p), extract_patch(img, x + nnf_x[x-1, y], y + nnf_y[x-1, y], p))\n",
    "                    best_d = nnf_x[x-1, y], nnf_y[x-1, y]\n",
    "                if 0 <= x + nnf_x[x, y-1] < h and 0 <= y + nnf_y[x, y-1] < w and loss_fn(extract_patch(img, x + best_d[0], y + best_d[1], p), extract_patch(img, x + nnf_x[x, y-1], y + nnf_y[x, y-1], p)) < best_l:\n",
    "                    best_l = loss_fn(extract_patch(img, x, y, p), extract_patch(img, x + nnf_x[x, y-1], y + nnf_y[x, y-1], p))\n",
    "                    best_d = nnf_x[x, y-1], nnf_y[x, y-1]\n",
    "                nnf_x[x, y], nnf_y[x, y] = best_d\n",
    "    return nnf_x, nnf_y\n",
    "                                     \n",
    "                                     \n",
    "                                     \n",
    "                                     \n",
    "                                     "
   ]
  },
  {
   "cell_type": "code",
   "execution_count": 7,
   "id": "37717792-1270-40e7-b184-a33d0172b797",
   "metadata": {},
   "outputs": [],
   "source": [
    "def random_search(img, nnf_x, nnf_y, p, L=5, loss_fn=l1):\n",
    "    dir_random = [(-1,-1), (0,1), (1,0), (0,-1), (-1,0), (1,-1), (-1,1), (1,1)]\n",
    "    h, w = img.shape[0] - p, img.shape[1] - p\n",
    "    for x in range(h):\n",
    "        for y in range(w):\n",
    "            best_d = nnf_x[x, y], nnf_y[x, y]\n",
    "            best_l = loss_fn(extract_patch(img, x, y, p), extract_patch(img, x + nnf_x[x, y], y + nnf_y[x, y], p))\n",
    "            for i in range(L):\n",
    "                dir_ = dir_random[np.random.randint(8)]\n",
    "                while not(0 <= x + nnf_x[x ,y] + 2 ** i * dir_[0] < h) or not(0 <= y + nnf_y[x ,y] + 2 ** i * dir_[1] < w) or (nnf_x[x ,y] + 2 ** i * dir_[0] == 0 and nnf_y[x ,y] + 2 ** i * dir_[1]==0):\n",
    "                    dir_ = dir_random[np.random.randint(8)]\n",
    "                if loss_fn(extract_patch(img, x, y, p), extract_patch(img, int(x + nnf_x[x, y] + 2 ** i * dir_[0]), int(y + nnf_y[x, y] + 2 ** i * dir_[1]), p)) < best_l:\n",
    "                    best_d = nnf_x[x ,y] + 2 ** i * dir_[0], nnf_y[x ,y] + 2 ** i * dir_[1]\n",
    "            nnf_x[x, y], nnf_y[x, y] = best_d\n",
    "    return nnf_x, nnf_y\n",
    "                \n",
    "            "
   ]
  },
  {
   "cell_type": "code",
   "execution_count": 17,
   "id": "231a51ab-ed4c-4d19-b59d-ea99b360e2a4",
   "metadata": {},
   "outputs": [],
   "source": [
    "def symetry_comparison(img, nnf_x, nnf_y, p, loss_fn=l1):\n",
    "    h, w = img.shape[0] - p, img.shape[1] - p\n",
    "    for x in range(h):\n",
    "        for y in range(w):\n",
    "            x_, y_ = x + nnf_x[x, y], y + nnf_y[x, y]\n",
    "            best_l = loss_fn(extract_patch(img, x_, y_, p), extract_patch(img, x_ + nnf_x[x_, y_], y_ + nnf_y[x_, y_], p))\n",
    "            if loss_fn(extract_patch(img, x_, y_, p), extract_patch(img, x, y, p)) < best_l:\n",
    "                nnf_x[x_, y_] = - nnf_x[x, y]\n",
    "                nnf_y[x_, y_] = - nnf_y[x, y]\n",
    "    return nnf_x, nnf_y\n",
    "            \n",
    "            \n",
    "            \n",
    "            "
   ]
  },
  {
   "cell_type": "code",
   "execution_count": 9,
   "id": "659b6399-7df1-4faf-bfe3-c4d3e797d8b5",
   "metadata": {},
   "outputs": [],
   "source": [
    "def remove_0(nnf_x, nnf_y, p):\n",
    "    for i in range(nnf_x.shape[0]):\n",
    "        for j in range(nnf_x.shape[1]):\n",
    "            while nnf_x[i,j] == nnf_y[i,j] == 0:\n",
    "                nnf_x[i,j] = np.random.randint(-i, nnf_x.shape[0] - i - p)\n",
    "    return nnf_x, nnf_y"
   ]
  },
  {
   "cell_type": "code",
   "execution_count": 57,
   "id": "fa4bf6e8-3691-4a21-9a34-19a4652f94ad",
   "metadata": {},
   "outputs": [],
   "source": [
    "def patchmatch(img, n_iters=100, p=8):\n",
    "    h, w = img.shape[0] - p, img.shape[1] - p\n",
    "    x = np.array(np.linspace(0,h-1,h))\n",
    "    y = np.array(np.linspace(0,w-1,w))\n",
    "    yy, xx = np.meshgrid(x, y)\n",
    "    xx = xx.astype(int)\n",
    "    yy = yy.astype(int)\n",
    "    nnf_x = np.random.randint(-xx, h-xx-p)\n",
    "    nnf_y = np.random.randint(-yy, w-yy-p)\n",
    "    nnf_x, nnf_y = remove_0(nnf_x, nnf_y, p) # to avoid null move\n",
    "    for i in tqdm(range(n_iters)):\n",
    "        nnf_x, nnf_y = propagation(img, nnf_x, nnf_y, i%2, p)\n",
    "        nnf_x, nnf_y = symetry_comparison(img, nnf_x, nnf_y, p)\n",
    "        nnf_x, nnf_y = random_search(img, nnf_x, nnf_y, p)\n",
    "    return nnf_x, nnf_y"
   ]
  },
  {
   "cell_type": "code",
   "execution_count": 58,
   "id": "f9cdfa2f-6cc5-422c-bd20-2af29ee01645",
   "metadata": {},
   "outputs": [],
   "source": [
    "img = np.random.randint(0,256, size=(40,40))\n",
    "img[1:18, 4:23] = img[15:32, 20:39] "
   ]
  },
  {
   "cell_type": "code",
   "execution_count": 70,
   "id": "a6a0c69a-ba4b-4dfa-a2a1-591092968cc1",
   "metadata": {},
   "outputs": [
    {
     "name": "stderr",
     "output_type": "stream",
     "text": [
      "100%|██████████| 20/20 [00:02<00:00,  8.92it/s]\n"
     ]
    }
   ],
   "source": [
    "nnf_x, nnf_y = patchmatch(img, 20, p=8)"
   ]
  },
  {
   "cell_type": "code",
   "execution_count": 71,
   "id": "77878d18-de20-4f64-839a-b9f3bbdb0d18",
   "metadata": {},
   "outputs": [
    {
     "data": {
      "text/plain": [
       "array([[14, 14, 14, 14, 14, 11, 14, 15],\n",
       "       [14, 14, 14, 14, 14, 14, 14, 14],\n",
       "       [14, 14, 14, 14, 14, 14, 14, 14],\n",
       "       [14, 14, 14, 14, 14, 14, 14, 14],\n",
       "       [14, 14, 14, 14, 14, 14, 14, 14],\n",
       "       [14, 14, 14, 14, 14, 14, 14, 14],\n",
       "       [14, 14, 14, 14, 14, 14, 14, 14],\n",
       "       [14, 14, 14, 14, 14, 14, 14, 14]])"
      ]
     },
     "execution_count": 71,
     "metadata": {},
     "output_type": "execute_result"
    }
   ],
   "source": [
    "nnf_x[2:10, 4:12]"
   ]
  },
  {
   "cell_type": "code",
   "execution_count": 72,
   "id": "ea099cbf-11ef-4392-874e-d55dcfc2b54a",
   "metadata": {},
   "outputs": [
    {
     "data": {
      "text/plain": [
       "array([[16, 16, 16, 16, 16,  4, 16,  9],\n",
       "       [16, 16, 16, 16, 16, 16, 16, 16],\n",
       "       [16, 16, 16, 16, 16, 16, 16, 16],\n",
       "       [16, 16, 16, 16, 16, 16, 16, 16],\n",
       "       [16, 16, 16, 16, 16, 16, 16, 16],\n",
       "       [16, 16, 16, 16, 16, 16, 16, 16],\n",
       "       [16, 16, 16, 16, 16, 16, 16, 16],\n",
       "       [16, 16, 16, 16, 16, 16, 16, 16]])"
      ]
     },
     "execution_count": 72,
     "metadata": {},
     "output_type": "execute_result"
    }
   ],
   "source": [
    "nnf_y[2:10, 4:12]"
   ]
  },
  {
   "cell_type": "code",
   "execution_count": 73,
   "id": "777b538e-ae56-4a3b-8b33-d51222cb3503",
   "metadata": {},
   "outputs": [
    {
     "data": {
      "text/plain": [
       "array([[-14, -14, -14, -14, -14,  13, -14,  13, -14, -14,  12],\n",
       "       [-14, -14, -14, -14, -14,  13, -14,   4, -14, -14,  11],\n",
       "       [-14, -14, -14, -14, -14, -14, -14, -14, -14, -14, -14],\n",
       "       [-14, -14, -14, -14, -14, -14, -14, -14, -14, -14, -14],\n",
       "       [-14, -14, -14, -14, -14, -14, -14, -14, -14, -14, -14],\n",
       "       [-14, -14, -14, -14, -14, -14, -14, -14, -14, -14, -14],\n",
       "       [-14, -14, -14, -14, -14, -14, -14, -14, -14, -14, -14],\n",
       "       [-14, -14, -14, -14, -14, -14, -14, -14, -14, -14, -14],\n",
       "       [-14, -14, -14, -14, -14, -14, -14, -14, -14, -14, -14]])"
      ]
     },
     "execution_count": 73,
     "metadata": {},
     "output_type": "execute_result"
    }
   ],
   "source": [
    "nnf_x[15:24, 20:31] "
   ]
  },
  {
   "cell_type": "code",
   "execution_count": 74,
   "id": "60673440-2a15-4303-9b9a-985fab3aab99",
   "metadata": {},
   "outputs": [
    {
     "data": {
      "text/plain": [
       "array([[-16, -16, -16, -16, -16, -11, -16, -10, -16, -16, -24],\n",
       "       [-16, -16, -16, -16, -16, -11, -16, -11, -16, -16, -24],\n",
       "       [-16, -16, -16, -16, -16, -16, -16, -16, -16, -16, -16],\n",
       "       [-16, -16, -16, -16, -16, -16, -16, -16, -16, -16, -16],\n",
       "       [-16, -16, -16, -16, -16, -16, -16, -16, -16, -16, -16],\n",
       "       [-16, -16, -16, -16, -16, -16, -16, -16, -16, -16, -16],\n",
       "       [-16, -16, -16, -16, -16, -16, -16, -16, -16, -16, -16],\n",
       "       [-16, -16, -16, -16, -16, -16, -16, -16, -16, -16, -16],\n",
       "       [-16, -16, -16, -16, -16, -16, -16, -16, -16, -16, -16]])"
      ]
     },
     "execution_count": 74,
     "metadata": {},
     "output_type": "execute_result"
    }
   ],
   "source": [
    "nnf_y[15:24, 20:31]"
   ]
  },
  {
   "cell_type": "code",
   "execution_count": 30,
   "id": "ca68c050-1d7e-4613-bb1d-7e1349fe51cb",
   "metadata": {},
   "outputs": [
    {
     "data": {
      "image/png": "[encoded data removed]",
      "text/plain": [
       "<Figure size 640x480 with 1 Axes>"
      ]
     },
     "metadata": {},
     "output_type": "display_data"
    }
   ],
   "source": [
    "plt.imshow(img, interpolation='nearest')\n",
    "plt.show()"
   ]
  },
  {
   "cell_type": "code",
   "execution_count": null,
   "id": "28249df6-4a1d-4f9b-b806-8f6988db8ada",
   "metadata": {},
   "outputs": [],
   "source": []
  },
  {
   "cell_type": "code",
   "execution_count": null,
   "id": "bf64b7bc-69dc-45da-bb60-f64b9ea2095d",
   "metadata": {},
   "outputs": [],
   "source": []
  }
 ],
 "metadata": {
  "kernelspec": {
   "display_name": "Python 3 (ipykernel)",
   "language": "python",
   "name": "python3"
  },
  "language_info": {
   "codemirror_mode": {
    "name": "ipython",
    "version": 3
   },
   "file_extension": ".py",
   "mimetype": "text/x-python",
   "name": "python",
   "nbconvert_exporter": "python",
   "pygments_lexer": "ipython3",
   "version": "3.10.4"
  }
 },
 "nbformat": 4,
 "nbformat_minor": 5
}
