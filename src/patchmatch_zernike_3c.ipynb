{
 "cells": [
  {
   "cell_type": "code",
   "execution_count": 1,
   "id": "38ca62c0-82d8-42fa-94dc-a30a9abee2b8",
   "metadata": {},
   "outputs": [],
   "source": [
    "import numpy as np\n",
    "from matplotlib import pyplot as plt\n",
    "import mahotas\n",
    "from tqdm import tqdm\n",
    "from itertools import repeat"
   ]
  },
  {
   "cell_type": "code",
   "execution_count": 2,
   "id": "a8efc952-7c3e-436e-a8e5-e5fd02dc1967",
   "metadata": {},
   "outputs": [],
   "source": [
    "def extract_patch(img, x, y, p):\n",
    "    return img[x : x + p, y : y + p]"
   ]
  },
  {
   "cell_type": "code",
   "execution_count": 52,
   "id": "212f39dc-074e-4cb1-9b7f-b69b606c1908",
   "metadata": {},
   "outputs": [],
   "source": [
    "def extract_patch_zernike(img, x, y, p):\n",
    "    return img[x, y, :]"
   ]
  },
  {
   "cell_type": "code",
   "execution_count": 29,
   "id": "71c58b46-4c7d-41d5-90eb-25c58b22c9df",
   "metadata": {},
   "outputs": [],
   "source": [
    "def image_to_zernike(img, p):\n",
    "    radius = p\n",
    "    h, w = img.shape[0] - p, img.shape[1] - p\n",
    "    img_zernike = np.zeros((h, w, 25))\n",
    "    for x in range(h):\n",
    "        for y in range(w):\n",
    "            img_zernike[x, y] = mahotas.features.zernike_moments(img[x : x + p, y : y + p], radius)\n",
    "    return img_zernike"
   ]
  },
  {
   "cell_type": "code",
   "execution_count": 42,
   "id": "08d53097-5a14-4d85-adce-45baf7cd2df5",
   "metadata": {},
   "outputs": [],
   "source": [
    "def image_to_zernike_3c(img, p):\n",
    "    return np.swapaxes(np.swapaxes(np.array([image_to_zernike(img[:,:,i], p) for i in range(3)]), 0,2), 0, 1)"
   ]
  },
  {
   "cell_type": "code",
   "execution_count": 43,
   "id": "ea137307-5ac2-4384-8a27-6fa80593513f",
   "metadata": {},
   "outputs": [],
   "source": [
    "def l1(p1, p2):\n",
    "    return np.sum(abs(p1 - p2))"
   ]
  },
  {
   "cell_type": "code",
   "execution_count": 44,
   "id": "c9ecb913-976d-49b4-a398-bb4c0756199e",
   "metadata": {},
   "outputs": [],
   "source": [
    "def l1_3c(p1, p2):\n",
    "    return np.sum(abs(p1 - p2))"
   ]
  },
  {
   "cell_type": "code",
   "execution_count": 45,
   "id": "68802828-c223-4f0e-97ae-10ad3563edd8",
   "metadata": {},
   "outputs": [],
   "source": [
    "def propagation(img, nnf_x, nnf_y, odd, p, loss_fn=l1):\n",
    "    h, w = img.shape[0], img.shape[1]\n",
    "    if odd:\n",
    "        for x in range(0, h-1):\n",
    "            for y in range(0,w-1):\n",
    "                best_d = nnf_x[x, y], nnf_y[x, y]\n",
    "                best_l = loss_fn(extract_patch_zernike(img, x, y, p), extract_patch_zernike(img, x + nnf_x[x, y], y + nnf_y[x, y], p))\n",
    "                if 0 <= x + nnf_x[x+1, y] < h and 0 <= y + nnf_y[x+1, y] < w and loss_fn(extract_patch_zernike(img, x, y, p), extract_patch_zernike(img, x + nnf_x[x+1, y], y + nnf_y[x+1, y], p)) < best_l:\n",
    "                    best_l = loss_fn(extract_patch_zernike(img, x, y, p), extract_patch_zernike(img, x + nnf_x[x+1, y], y + nnf_y[x+1, y], p))\n",
    "                    best_d = nnf_x[x+1, y], nnf_y[x+1, y]\n",
    "                if 0 <= x + nnf_x[x, y+1] < h and 0 <= y + nnf_y[x, y+1] < w and loss_fn(extract_patch_zernike(img, x + best_d[0], y + best_d[1], p), extract_patch_zernike(img, x + nnf_x[x, y+1], y + nnf_y[x, y+1], p)) < best_l:\n",
    "                    best_l = loss_fn(extract_patch_zernike(img, x, y, p), extract_patch_zernike(img, x + nnf_x[x, y+1], y + nnf_y[x, y+1], p))\n",
    "                    best_d = nnf_x[x, y+1], nnf_y[x, y+1]\n",
    "                nnf_x[x, y], nnf_y[x, y] = best_d\n",
    "    else:\n",
    "        for x in range(1, h):\n",
    "            for y in range(1,w):\n",
    "                best_d = nnf_x[x, y], nnf_y[x, y]\n",
    "                best_l = loss_fn(extract_patch_zernike(img, x, y, p), extract_patch_zernike(img, x + nnf_x[x, y], y + nnf_y[x, y], p))\n",
    "                if 0 <= x + nnf_x[x-1, y] < h and 0 <= y + nnf_y[x-1, y] < w and loss_fn(extract_patch_zernike(img, x, y, p), extract_patch_zernike(img, x + nnf_x[x-1, y], y + nnf_y[x-1, y], p)) < best_l:\n",
    "                    best_l = loss_fn(extract_patch_zernike(img, x, y, p), extract_patch_zernike(img, x + nnf_x[x-1, y], y + nnf_y[x-1, y], p))\n",
    "                    best_d = nnf_x[x-1, y], nnf_y[x-1, y]\n",
    "                if 0 <= x + nnf_x[x, y-1] < h and 0 <= y + nnf_y[x, y-1] < w and loss_fn(extract_patch_zernike(img, x + best_d[0], y + best_d[1], p), extract_patch_zernike(img, x + nnf_x[x, y-1], y + nnf_y[x, y-1], p)) < best_l:\n",
    "                    best_l = loss_fn(extract_patch_zernike(img, x, y, p), extract_patch_zernike(img, x + nnf_x[x, y-1], y + nnf_y[x, y-1], p))\n",
    "                    best_d = nnf_x[x, y-1], nnf_y[x, y-1]\n",
    "                nnf_x[x, y], nnf_y[x, y] = best_d\n",
    "    return nnf_x, nnf_y\n",
    "                                     \n",
    "                                     \n",
    "                                     \n",
    "                                     \n",
    "                                     "
   ]
  },
  {
   "cell_type": "code",
   "execution_count": 46,
   "id": "520535ea-a1d9-40d4-bc7e-881871c60656",
   "metadata": {},
   "outputs": [],
   "source": [
    "def random_search(img, nnf_x, nnf_y, p, L=5, loss_fn=l1):\n",
    "    dir_random = [(-1,-1), (0,1), (1,0), (0,-1), (-1,0), (1,-1), (-1,1), (1,1)]\n",
    "    h, w = img.shape[0], img.shape[1]\n",
    "    for x in range(h):\n",
    "        for y in range(w):\n",
    "            best_d = nnf_x[x, y], nnf_y[x, y]\n",
    "            best_l = loss_fn(extract_patch_zernike(img, x, y, p), extract_patch_zernike(img, x + nnf_x[x, y], y + nnf_y[x, y], p))\n",
    "            for i in range(L):\n",
    "                dir_ = dir_random[np.random.randint(8)]\n",
    "                while not(0 <= x + nnf_x[x ,y] + 2 ** i * dir_[0] < h) or not(0 <= y + nnf_y[x ,y] + 2 ** i * dir_[1] < w) or (nnf_x[x ,y] + 2 ** i * dir_[0] == 0 and nnf_y[x ,y] + 2 ** i * dir_[1]==0):\n",
    "                    dir_ = dir_random[np.random.randint(8)]\n",
    "                if loss_fn(extract_patch_zernike(img, x, y, p), extract_patch_zernike(img, int(x + nnf_x[x, y] + 2 ** i * dir_[0]), int(y + nnf_y[x, y] + 2 ** i * dir_[1]), p)) < best_l:\n",
    "                    best_d = nnf_x[x ,y] + 2 ** i * dir_[0], nnf_y[x ,y] + 2 ** i * dir_[1]\n",
    "            nnf_x[x, y], nnf_y[x, y] = best_d\n",
    "    return nnf_x, nnf_y\n",
    "                \n",
    "            "
   ]
  },
  {
   "cell_type": "code",
   "execution_count": 47,
   "id": "26112281-046c-4518-a4f7-371a9c4ac9a3",
   "metadata": {},
   "outputs": [],
   "source": [
    "def symetry_comparison(img, nnf_x, nnf_y, p, loss_fn=l1):\n",
    "    h, w = img.shape[0], img.shape[1]\n",
    "    for x in range(h):\n",
    "        for y in range(w):\n",
    "            x_, y_ = x + nnf_x[x, y], y + nnf_y[x, y]\n",
    "            best_l = loss_fn(extract_patch_zernike(img, x_, y_, p), extract_patch_zernike(img, x_ + nnf_x[x_, y_], y_ + nnf_y[x_, y_], p))\n",
    "            if loss_fn(extract_patch_zernike(img, x_, y_, p), extract_patch_zernike(img, x, y, p)) < best_l:\n",
    "                nnf_x[x_, y_] = - nnf_x[x, y]\n",
    "                nnf_y[x_, y_] = - nnf_y[x, y]\n",
    "    return nnf_x, nnf_y\n",
    "            \n",
    "            \n",
    "            \n",
    "            "
   ]
  },
  {
   "cell_type": "code",
   "execution_count": 48,
   "id": "f36ef084-87f4-4a1a-8b07-76c40a1fe6f9",
   "metadata": {},
   "outputs": [],
   "source": [
    "def remove_0(nnf_x, nnf_y, p):\n",
    "    for i in range(nnf_x.shape[0]):\n",
    "        for j in range(nnf_x.shape[1]):\n",
    "            while nnf_x[i,j] == nnf_y[i,j] == 0:\n",
    "                nnf_x[i,j] = np.random.randint(-i, nnf_x.shape[0] - i - p)\n",
    "    return nnf_x, nnf_y"
   ]
  },
  {
   "cell_type": "code",
   "execution_count": 49,
   "id": "cc329248-e0a6-41bf-9a5f-fb4a2455311e",
   "metadata": {},
   "outputs": [],
   "source": [
    "def patchmatch(img, n_iters=100, p=8):\n",
    "    img_zernike = image_to_zernike_3c(img, p)\n",
    "    h, w = img.shape[0] - p, img.shape[1] - p\n",
    "    x = np.array(np.linspace(0,h-1,h))\n",
    "    y = np.array(np.linspace(0,w-1,w))\n",
    "    yy, xx = np.meshgrid(x, y)\n",
    "    xx = xx.astype(int)\n",
    "    yy = yy.astype(int)\n",
    "    nnf_x = np.random.randint(-xx, h-xx-p)\n",
    "    nnf_y = np.random.randint(-yy, w-yy-p)\n",
    "    nnf_x, nnf_y = remove_0(nnf_x, nnf_y, p) # to avoid null move\n",
    "    for i in tqdm(range(n_iters)):\n",
    "        nnf_x, nnf_y = propagation(img_zernike, nnf_x, nnf_y, i%2, p)\n",
    "        nnf_x, nnf_y = symetry_comparison(img_zernike, nnf_x, nnf_y, p)\n",
    "        nnf_x, nnf_y = random_search(img_zernike, nnf_x, nnf_y, p)\n",
    "    return nnf_x, nnf_y"
   ]
  },
  {
   "cell_type": "code",
   "execution_count": 50,
   "id": "71644afa-6660-4703-85c7-95d81da7ad98",
   "metadata": {},
   "outputs": [],
   "source": [
    "img = np.random.randint(0,256, size=(40,40,3))\n",
    "img[1:18, 4:23] = img[15:32, 20:39] \n",
    "#img[1:20, 4:23] = np.rot90(img[15:34, 20:39])"
   ]
  },
  {
   "cell_type": "code",
   "execution_count": 39,
   "id": "4e18f927-e8e0-451c-a3b6-3ad99ed8efc1",
   "metadata": {},
   "outputs": [
    {
     "data": {
      "text/plain": [
       "(3, 32, 32, 25)"
      ]
     },
     "execution_count": 39,
     "metadata": {},
     "output_type": "execute_result"
    }
   ],
   "source": [
    "image_to_zernike_3c(img, 8).shape"
   ]
  },
  {
   "cell_type": "code",
   "execution_count": null,
   "id": "e5b5785f-98a3-42d1-a9a2-e7129ed33f76",
   "metadata": {},
   "outputs": [],
   "source": [
    "p1 = np.random.randint(0,256, size=(3,10))\n",
    "p2 = "
   ]
  },
  {
   "cell_type": "code",
   "execution_count": 53,
   "id": "83ab85e9-4404-41f2-82d4-886aec0729b2",
   "metadata": {},
   "outputs": [
    {
     "name": "stderr",
     "output_type": "stream",
     "text": [
      "100%|██████████| 20/20 [00:02<00:00,  7.41it/s]\n"
     ]
    }
   ],
   "source": [
    "nnf_x, nnf_y = patchmatch(img, 20, p=8)"
   ]
  },
  {
   "cell_type": "code",
   "execution_count": 54,
   "id": "e0f7fa83-b3fb-4e48-8fef-ce90e6479dca",
   "metadata": {},
   "outputs": [
    {
     "data": {
      "text/plain": [
       "array([[14, 14, 14, 14, 14, 14, 14, 14],\n",
       "       [14, 14, 14, 14, 14, 14, 14, 14],\n",
       "       [14, 14, 14, 14, 14, 14, 14, 14],\n",
       "       [14, 14, 14, 14, 14, 14, 14, 14],\n",
       "       [14, 14, 14, 14, 14, 14, 14, 14],\n",
       "       [14, 14, 14, 14, 14, 14, 14, 14],\n",
       "       [14, 14, 14, 14, 14, 14, 14, 14],\n",
       "       [14, 14, 14, 14, 14, 14, 14, 14]])"
      ]
     },
     "execution_count": 54,
     "metadata": {},
     "output_type": "execute_result"
    }
   ],
   "source": [
    "nnf_x[2:10, 4:12]"
   ]
  },
  {
   "cell_type": "code",
   "execution_count": null,
   "id": "5c4ccfd1-8fed-4851-8806-c9519a2a2a94",
   "metadata": {},
   "outputs": [],
   "source": []
  }
 ],
 "metadata": {
  "kernelspec": {
   "display_name": "Python 3 (ipykernel)",
   "language": "python",
   "name": "python3"
  },
  "language_info": {
   "codemirror_mode": {
    "name": "ipython",
    "version": 3
   },
   "file_extension": ".py",
   "mimetype": "text/x-python",
   "name": "python",
   "nbconvert_exporter": "python",
   "pygments_lexer": "ipython3",
   "version": "3.10.4"
  }
 },
 "nbformat": 4,
 "nbformat_minor": 5
}
